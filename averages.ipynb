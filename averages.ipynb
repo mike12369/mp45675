{
 "cells": [
  {
   "cell_type": "code",
   "execution_count": 1,
   "metadata": {
    "collapsed": false
   },
   "outputs": [
    {
     "name": "stdout",
     "output_type": "stream",
     "text": [
      "total 17\n",
      "drwxr-xr-x+ 1 t00192959 Domain Users   0 Feb  1 15:22 .\n",
      "drwxr-xr-x+ 1 t00192959 Domain Users   0 Feb  1 15:22 ..\n",
      "drwxr-xr-x+ 1 t00192959 Domain Users   0 Feb  1 15:16 .git\n",
      "drwxr-xr-x+ 1 t00192959 Domain Users   0 Feb  1 15:22 .ipynb_checkpoints\n",
      "-rw-r--r--  1 t00192959 Domain Users 632 Feb  1 15:10 mp45675_hist_1_Feb\n",
      "-rw-r--r--  1 t00192959 Domain Users   0 Feb  1 14:35 README.md\n",
      "-rwxr-xr-x  1 t00192959 Domain Users  72 Feb  1 15:22 Untitled.ipynb\n"
     ]
    }
   ],
   "source": [
    "%%bash\n",
    "ls -al"
   ]
  },
  {
   "cell_type": "code",
   "execution_count": 2,
   "metadata": {
    "collapsed": true
   },
   "outputs": [],
   "source": [
    "def average(numbers):\n",
    "    return sum(numbers)/len(numbers)"
   ]
  },
  {
   "cell_type": "code",
   "execution_count": 3,
   "metadata": {
    "collapsed": false
   },
   "outputs": [
    {
     "data": {
      "text/plain": [
       "3.0"
      ]
     },
     "execution_count": 3,
     "metadata": {},
     "output_type": "execute_result"
    }
   ],
   "source": [
    "average([1,2,3,4,5])"
   ]
  },
  {
   "cell_type": "code",
   "execution_count": null,
   "metadata": {
    "collapsed": true
   },
   "outputs": [],
   "source": []
  }
 ],
 "metadata": {
  "kernelspec": {
   "display_name": "Python 3",
   "language": "python",
   "name": "python3"
  },
  "language_info": {
   "codemirror_mode": {
    "name": "ipython",
    "version": 3
   },
   "file_extension": ".py",
   "mimetype": "text/x-python",
   "name": "python",
   "nbconvert_exporter": "python",
   "pygments_lexer": "ipython3",
   "version": "3.5.1"
  }
 },
 "nbformat": 4,
 "nbformat_minor": 0
}
